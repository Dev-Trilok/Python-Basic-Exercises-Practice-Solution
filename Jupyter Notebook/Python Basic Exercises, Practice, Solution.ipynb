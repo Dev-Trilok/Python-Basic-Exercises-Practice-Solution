{
 "metadata": {
  "language_info": {
   "codemirror_mode": {
    "name": "ipython",
    "version": 3
   },
   "file_extension": ".py",
   "mimetype": "text/x-python",
   "name": "python",
   "nbconvert_exporter": "python",
   "pygments_lexer": "ipython3",
   "version": "3.7.0-final"
  },
  "orig_nbformat": 2,
  "kernelspec": {
   "name": "python3",
   "display_name": "Python 3",
   "language": "python"
  }
 },
 "nbformat": 4,
 "nbformat_minor": 2,
 "cells": [
  {
   "cell_type": "code",
   "execution_count": 3,
   "metadata": {},
   "outputs": [
    {
     "output_type": "stream",
     "name": "stdout",
     "text": [
      "Python Version:\n3.7.0 (v3.7.0:1bf9cc5093, Jun 27 2018, 04:06:47) [MSC v.1914 32 bit (Intel)]\n"
     ]
    }
   ],
   "source": [
    "\n",
    "#Check python version\n",
    "import sys\n",
    "print(\"Python Version:\")\n",
    "print(sys.version)\n"
   ]
  },
  {
   "cell_type": "code",
   "execution_count": 14,
   "metadata": {},
   "outputs": [
    {
     "output_type": "stream",
     "name": "stdout",
     "text": [
      "Current date and time: \n2021-03-09 20:28:12\nMarch 09, 2021\n"
     ]
    }
   ],
   "source": [
    "#current date and time\n",
    "import datetime\n",
    "now = datetime.datetime.now();\n",
    "print(\"Current date and time: \")\n",
    "print(now.strftime(\"%Y-%m-%d %H:%M:%S\"))\n",
    "print(f\"{now:%B %d, %Y}\")"
   ]
  },
  {
   "cell_type": "code",
   "execution_count": 18,
   "metadata": {},
   "outputs": [
    {
     "output_type": "stream",
     "name": "stdout",
     "text": [
      "Area of circle: 132.73\n"
     ]
    }
   ],
   "source": [
    "#radius of a circle\n",
    "from math import pi\n",
    "r= float(input(\"Enter radius of circle\"))\n",
    "print(\"Area of circle: \"+ str(round((pi*r**2),2))) "
   ]
  },
  {
   "cell_type": "code",
   "execution_count": 20,
   "metadata": {},
   "outputs": [
    {
     "output_type": "stream",
     "name": "stdout",
     "text": [
      "['5', '9', '6', '3', '2', '']\n('5', '9', '6', '3', '2', '')\n"
     ]
    }
   ],
   "source": [
    "#generate a list and a tuple from input\n",
    "num = input(\"Enter numbers using comma separate\")\n",
    "list=num.split(\",\")\n",
    "print(list)\n",
    "tuple=tuple(list)\n",
    "print(tuple)"
   ]
  },
  {
   "cell_type": "code",
   "execution_count": 4,
   "metadata": {},
   "outputs": [
    {
     "output_type": "stream",
     "name": "stdout",
     "text": [
      "File Extension :'jpg'\n"
     ]
    }
   ],
   "source": [
    "#print the extension of file\n",
    "f_name = input(\"Enter the Filename: \")\n",
    "f_ext=f_name.split(\".\")\n",
    "print(\"File Extension :\" +repr(f_ext[-1]))"
   ]
  },
  {
   "cell_type": "code",
   "execution_count": 6,
   "metadata": {},
   "outputs": [
    {
     "output_type": "stream",
     "name": "stdout",
     "text": [
      "     March 2021\nMo Tu We Th Fr Sa Su\n 1  2  3  4  5  6  7\n 8  9 10 11 12 13 14\n15 16 17 18 19 20 21\n22 23 24 25 26 27 28\n29 30 31\n\n"
     ]
    }
   ],
   "source": [
    "#calender \n",
    "import calendar\n",
    "year = int(input(\"Enter the year : \"))\n",
    "month = int(input(\"Enter the month number : \"))\n",
    "print(calendar.month(year, month))"
   ]
  },
  {
   "cell_type": "code",
   "execution_count": 5,
   "metadata": {},
   "outputs": [
    {
     "output_type": "stream",
     "name": "stdout",
     "text": [
      "Difference of:8285 Days\n"
     ]
    }
   ],
   "source": [
    "#Diff between two dates\n",
    "from datetime import date\n",
    "l_date = date(2021, 3, 10)\n",
    "f_date = date(1998, 7, 4)\n",
    "delta = l_date - f_date\n",
    "print(\"Difference of:\" +str(delta.days)+\" Days\")"
   ]
  },
  {
   "cell_type": "code",
   "execution_count": 12,
   "metadata": {},
   "outputs": [
    {
     "output_type": "stream",
     "name": "stdout",
     "text": [
      "volume of the sphere is: \n904.78\n"
     ]
    }
   ],
   "source": [
    "#volume of the sphere is : V = 4/3 × π × r3 = π × d3/6.\n",
    "from math import pi\n",
    "rad =float(input(\"Enter radius of sphere\"))\n",
    "vol = 4/3*pi* rad**3\n",
    "print(\"volume of the sphere is: \")\n",
    "print(round((vol),2))"
   ]
  },
  {
   "cell_type": "code",
   "execution_count": 26,
   "metadata": {},
   "outputs": [
    {
     "output_type": "stream",
     "name": "stdout",
     "text": [
      "27\n"
     ]
    }
   ],
   "source": [
    "#sum of three given numbers, if the values are equal then return thrice of their sum\n",
    "value1 = int(input(\"Enter 1st value:\"))\n",
    "value2 = int(input(\"Enter 2nd value:\"))\n",
    "value3 = int(input(\"Enter 3rd value:\"))\n",
    "sum= (value1+value2+value3) *3 if value1==value2==value3 else value1+value2+value3\n",
    "print(sum)"
   ]
  },
  {
   "cell_type": "code",
   "execution_count": 28,
   "metadata": {},
   "outputs": [
    {
     "output_type": "stream",
     "name": "stdout",
     "text": [
      "1\n"
     ]
    }
   ],
   "source": [
    "#Count given no in List\n",
    "def Check(nums, val):\n",
    "  count = 0  \n",
    "  for num in nums:\n",
    "    if num == val:\n",
    "      count = count + 1\n",
    "  return count\n",
    "print(Check([1, 4, 6, 7, 4], 4))"
   ]
  },
  {
   "cell_type": "code",
   "execution_count": 29,
   "metadata": {},
   "outputs": [
    {
     "output_type": "stream",
     "name": "stdout",
     "text": [
      "**\n***\n******\n*****\n"
     ]
    }
   ],
   "source": [
    "#Create a histogram \n",
    "def histogram( items ):\n",
    "    for n in items:\n",
    "        output = ''\n",
    "        times = n\n",
    "        while( times > 0 ):\n",
    "          output += '*'\n",
    "          times = times - 1\n",
    "        print(output)\n",
    "\n",
    "histogram([2, 3, 6, 5])\n"
   ]
  },
  {
   "cell_type": "code",
   "execution_count": 11,
   "metadata": {},
   "outputs": [
    {
     "output_type": "stream",
     "name": "stdout",
     "text": [
      "Sum of List :\n15\n"
     ]
    }
   ],
   "source": [
    "#sum all the items in a list.\n",
    "list = []\n",
    "total=0\n",
    "noe = int(input(\"Enter number of elements :\"))\n",
    "for i in range(0, noe):\n",
    "    ele = int(input(\"Enter elements of list:\"))\n",
    "    list.append(ele)\n",
    "\n",
    "Total = sum(list)\n",
    "print(\"sum all the items in a list. :\")\n",
    "print(Total)"
   ]
  },
  {
   "cell_type": "code",
   "execution_count": 2,
   "metadata": {},
   "outputs": [
    {
     "output_type": "stream",
     "name": "stdout",
     "text": [
      "largest number from a list :98\n"
     ]
    }
   ],
   "source": [
    "#Get the largest number from a list\n",
    "num = input(\"Enter numbers : \")\n",
    "list=num.split(\",\")\n",
    "list.sort()\n",
    "print('largest number from a list :'+str(list[-1]))"
   ]
  },
  {
   "cell_type": "code",
   "execution_count": 15,
   "metadata": {},
   "outputs": [
    {
     "output_type": "stream",
     "name": "stdout",
     "text": [
      "After removing Duplicates from list:[12, 45, 65, 32, 98]\n"
     ]
    }
   ],
   "source": [
    "#remove duplicates from a list.\n",
    "list = []\n",
    "list=[int(item) for item in input(\"Enter the list items : \").split()]\n",
    "# Stringlist = [item for item in input(\"Enter the list items : \").split()]\n",
    "rem=[]\n",
    "for i in list:\n",
    "    if i not in rem:\n",
    "        rem.append(i)\n",
    "print('After removing Duplicates from list:'+str(rem)) "
   ]
  },
  {
   "cell_type": "code",
   "execution_count": 16,
   "metadata": {},
   "outputs": [
    {
     "output_type": "stream",
     "name": "stdout",
     "text": [
      "Reverse order: 321\n"
     ]
    }
   ],
   "source": [
    "#displaying reversal of a number\n",
    "num =int(input(\"Enter a Number: \"))\n",
    "rev=0\n",
    "while (num>0):\n",
    "    rev= (rev*10) + num%10\n",
    "    num=num//10\n",
    "print(\"Reverse order: \"+str(rev))"
   ]
  },
  {
   "cell_type": "code",
   "execution_count": 19,
   "metadata": {},
   "outputs": [
    {
     "output_type": "stream",
     "name": "stdout",
     "text": [
      "11\n",
      "22\n",
      "33\n",
      "Biggest Number: 33\n"
     ]
    }
   ],
   "source": [
    "# Write a program to find biggest number among 3\n",
    "arr=[0]*3\n",
    "for i in range(0,3):\n",
    "    arr[i]=int(input(\"Enter \"+ str(i+1)+\" Number : \"))\n",
    "    print(arr[i])\n",
    "print(\"Biggest Number: \" + str(max(arr)))"
   ]
  },
  {
   "cell_type": "code",
   "execution_count": 21,
   "metadata": {},
   "outputs": [
    {
     "output_type": "stream",
     "name": "stdout",
     "text": [
      "Entered age: 23\nEligible for voting\n"
     ]
    }
   ],
   "source": [
    "# Write a program to read person's age from keyboard and display whether is eligible for voting or not\n",
    "def isEligible(age):\n",
    "    print(\"Entered age: \"+str(age))\n",
    "    if age>18:\n",
    "        print(\"Eligible for voting\")\n",
    "    else:   \n",
    "        print(\"Not eligible for voting\")\n",
    "        \n",
    "isEligible(int(input(\"Enter Age : \")))"
   ]
  },
  {
   "cell_type": "code",
   "execution_count": 8,
   "metadata": {},
   "outputs": [
    {
     "output_type": "stream",
     "name": "stdout",
     "text": [
      "Print first character:  H\nPrint last character:  o\nPrint slicing 2nd to 3th character:  el\nPrint repeated string given number of times:  HelloHelloHello\nPrint lenghth of string :  5\nPrint Convert into uppercase:  HELLO\nPrint Check is string :  False\nPrint Concatenate two string:  Hello World\nPrint Convert into uppercase:  ['Hello', 'World']\n"
     ]
    }
   ],
   "source": [
    "#various operations on string using string libraries\n",
    "string_1 = 'Hello'\n",
    "print(\"Print first character: \", string_1[0])\n",
    "print(\"Print last character: \", string_1[-1])\n",
    "print(\"Print slicing 2nd to 3th character: \", string_1[1:3])\n",
    "print(\"Print repeated string given number of times: \", string_1*3)\n",
    "print(\"Print lenghth of string : \", len(string_1))\n",
    "print(\"Print Convert into uppercase: \", string_1.upper())\n",
    "print(\"Print Check is string : \", string_1.isdigit())\n",
    "string_2 = ' World'\n",
    "print(\"Print Concatenate two string: \", string_1+ string_2)\n",
    "string_3=string_1+string_2\n",
    "print(\"Print Spilt strings: \", string_3.split())\n"
   ]
  },
  {
   "cell_type": "code",
   "execution_count": 10,
   "metadata": {},
   "outputs": [
    {
     "output_type": "stream",
     "name": "stdout",
     "text": [
      "the king\nNumber of characters 7\nNumber of blankSpace 1\nNumber of vowels: 2\n"
     ]
    }
   ],
   "source": [
    "# accept line of text and find the number of characters, number of vowels and number of blank spaces in it.\n",
    "string_1=str(input(\"Enter line of words : \"))\n",
    "print(string_1)\n",
    "characters=0\n",
    "blankSpace=0\n",
    "vowels=0\n",
    "for i in range(0, len(string_1)):\n",
    "    if(string_1[i]!=\" \"):\n",
    "        characters=characters+1\n",
    "    else:\n",
    "        blankSpace=blankSpace+1\n",
    "    if string_1[i] in ('a',\"e\",\"i\",\"o\",\"u\"):  \n",
    "        vowels=vowels+1\n",
    "print(\"Number of characters \"+str(characters))\n",
    "print(\"Number of blankSpace \"+str(blankSpace))\n",
    "print(\"Number of vowels: \"+str(vowels))\n"
   ]
  },
  {
   "cell_type": "code",
   "execution_count": 25,
   "metadata": {},
   "outputs": [
    {
     "output_type": "stream",
     "name": "stdout",
     "text": [
      "Line 1: git init -b main\\\nLine 2: git add .\nLine 3: git status\nLine 4: $ git commit -m 'Initial Commit '\nLine 5: $ git remote add origin 'https://github.com/Dev-Trilok/React-API-Handling.git'\nLine 6: git push origin main or\nLine 7: git push -f origin main\n"
     ]
    },
    {
     "output_type": "execute_result",
     "data": {
      "text/plain": [
       "<function TextIOWrapper.close()>"
      ]
     },
     "metadata": {},
     "execution_count": 25
    }
   ],
   "source": [
    "#to read the content from a text file line by line \n",
    "def my_function():\n",
    "    f=open(\"T:\\\\sample.txt\",encoding=\"utf8\")\n",
    "    # print(f.read())\n",
    "    Lines = f.readlines()\n",
    "    count = 0\n",
    "    for line in Lines:\n",
    "        count += 1\n",
    "        # print(\"Line {}: {}\".format(count, line.strip()))\n",
    "        print(\"Line {}: {}\".format(count, line.strip()))\n",
    "    f.close\n",
    "    \n",
    "my_function()\n"
   ]
  },
  {
   "cell_type": "code",
   "execution_count": 12,
   "metadata": {},
   "outputs": [
    {
     "output_type": "stream",
     "name": "stdout",
     "text": [
      "No of words: 40\n"
     ]
    }
   ],
   "source": [
    "#count and display the total number of words in a text file.\n",
    "def my_function():\n",
    "    f=open(\"T:\\\\sample.txt\", \"rt\")\n",
    "    data=f.read()\n",
    "    count =data.split()\n",
    "    print( \"No of words: \"+str(len(count)))\n",
    "    f.close()\n",
    "\n",
    "\n",
    "my_function()"
   ]
  },
  {
   "cell_type": "code",
   "execution_count": 26,
   "metadata": {},
   "outputs": [
    {
     "output_type": "stream",
     "name": "stdout",
     "text": [
      "No of words: 2\n"
     ]
    }
   ],
   "source": [
    "#to read lines from a text file and function should find and display the occurrence of the word \"Python\".\n",
    "def my_function():\n",
    "    f=open(\"T:\\\\sample.txt\", \"r\") \n",
    "    count=0   \n",
    "    for line in f:\n",
    "        words = line.split()\n",
    "        for word in words:\n",
    "            if word == 'Python':\n",
    "                count += 1\n",
    "    print( \"No of words: \"+str(count))\n",
    "    f.close()\n",
    "\n",
    "my_function()"
   ]
  },
  {
   "cell_type": "code",
   "execution_count": 28,
   "metadata": {},
   "outputs": [
    {
     "output_type": "stream",
     "name": "stdout",
     "text": [
      "Do\nid\nqui\nid\nin\neu.\nDo\nut\neu\nsit\nest\nsit\n.\n"
     ]
    }
   ],
   "source": [
    "#function display_words() in python to read lines from a text file, and display those words, which are less than 4 characters\n",
    "def my_function():\n",
    "    f=open(\"T:\\\\sample.txt\", \"r\") \n",
    "    count=0   \n",
    "    for line in f:\n",
    "        words = line.split()\n",
    "        for word in words:\n",
    "            if (len(word))<4:\n",
    "                print(word)\n",
    "                \n",
    "    f.close()\n",
    "\n",
    "my_function()"
   ]
  },
  {
   "cell_type": "code",
   "execution_count": 4,
   "metadata": {},
   "outputs": [
    {
     "output_type": "stream",
     "name": "stdout",
     "text": [
      "No of words: 5\n"
     ]
    }
   ],
   "source": [
    "#a function in Python to count words in a text file those are ending with alphabet \"e\".\n",
    "def my_function():\n",
    "    f=open(\"T:\\\\sample.txt\", \"r\") \n",
    "    count=0   \n",
    "    for line in f:\n",
    "        words = line.split()\n",
    "        for word in words:\n",
    "            if word[-1] == 'e':\n",
    "                # print(word)\n",
    "                count += 1\n",
    "    print( \"No of words: \"+str(count))\n",
    "    f.close()\n",
    "my_function()"
   ]
  },
  {
   "cell_type": "code",
   "execution_count": null,
   "metadata": {},
   "outputs": [],
   "source": [
    "#function to search and display details of student whose rollno is '11' from the binary file student.dat having structure [rollno, name, class and fees].\n",
    "\n"
   ]
  },
  {
   "cell_type": "code",
   "execution_count": 9,
   "metadata": {},
   "outputs": [
    {
     "output_type": "stream",
     "name": "stdout",
     "text": [
      "Quis aute commodo veniam dolore ut magna eu sit deserunt est aliqua aliquip sit Python .\n"
     ]
    }
   ],
   "source": [
    "#program to read line number 4 from the following file\n",
    "def my_function():\n",
    "    f=open(\"T:\\\\sample.txt\", \"r\") \n",
    "    print(f.readlines()[3])\n",
    "\n",
    "    f.close()\n",
    "my_function()"
   ]
  },
  {
   "cell_type": "code",
   "execution_count": 10,
   "metadata": {},
   "outputs": [
    {
     "output_type": "stream",
     "name": "stdout",
     "text": [
      "Files and directories in ' T://MCA ' :\n['3rd SEM', '4th sem', 'Anil_Khatri.pdf', 'audacity-mr']\n"
     ]
    }
   ],
   "source": [
    "#program to accept the folder name from user and print the list of files and folders from the given folder.\n",
    "import os\n",
    "Fname=input(\"Enter Folder name\")\n",
    "path = \"T://\"+Fname\n",
    "dir_list = os.listdir(path)\n",
    "print(\"Files and Folders in '\", path, \"' :\")\n",
    "print(dir_list)\n"
   ]
  },
  {
   "cell_type": "code",
   "execution_count": 13,
   "metadata": {},
   "outputs": [],
   "source": [
    "#a program to copy the content of .jpg file into another file.\n",
    "with open('T://sampleCopy.txt','r') as firstfile, open('T://sample.txt','a') as secondfile:\n",
    "    for line in firstfile:\n",
    "             secondfile.write(line)"
   ]
  },
  {
   "cell_type": "code",
   "execution_count": 3,
   "metadata": {},
   "outputs": [
    {
     "output_type": "stream",
     "name": "stdout",
     "text": [
      "PDF file has been split\n"
     ]
    }
   ],
   "source": [
    "import os\n",
    "from PyPDF2 import PdfFileReader, PdfFileWriter\n",
    "\n",
    "path = 'T:\\\\Images\\\\marksheet.pdf' #pdf path\n",
    "pdf = PdfFileReader(path, \"rb\")\n",
    "\n",
    "pdf_writer = PdfFileWriter()\n",
    "\n",
    "for page in range(3, 4):\n",
    "    pdf_writer.addPage(pdf.getPage(page))\n",
    "\n",
    "output_fname = \"Output.pdf\"\n",
    "\n",
    "with open(output_fname, 'wb') as out:\n",
    "    pdf_writer.write(out)\n",
    "\n",
    "print (\"PDF file has been split\")"
   ]
  },
  {
   "cell_type": "code",
   "execution_count": null,
   "metadata": {},
   "outputs": [],
   "source": []
  }
 ]
}