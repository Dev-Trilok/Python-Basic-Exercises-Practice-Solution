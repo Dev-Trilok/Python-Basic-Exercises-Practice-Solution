{
 "metadata": {
  "language_info": {
   "codemirror_mode": {
    "name": "ipython",
    "version": 3
   },
   "file_extension": ".py",
   "mimetype": "text/x-python",
   "name": "python",
   "nbconvert_exporter": "python",
   "pygments_lexer": "ipython3",
   "version": "3.7.0-final"
  },
  "orig_nbformat": 2,
  "kernelspec": {
   "name": "python3",
   "display_name": "Python 3.7.0 32-bit",
   "metadata": {
    "interpreter": {
     "hash": "a1f030392560b1ea6494f38a54b744252cd7d3e4b8dbec40eca7279516abf9d6"
    }
   }
  }
 },
 "nbformat": 4,
 "nbformat_minor": 2,
 "cells": [
  {
   "cell_type": "code",
   "execution_count": 3,
   "metadata": {},
   "outputs": [
    {
     "output_type": "stream",
     "name": "stdout",
     "text": [
      "Python Version:\n3.7.0 (v3.7.0:1bf9cc5093, Jun 27 2018, 04:06:47) [MSC v.1914 32 bit (Intel)]\n"
     ]
    }
   ],
   "source": [
    "\n",
    "#Check python version\n",
    "import sys\n",
    "print(\"Python Version:\")\n",
    "print(sys.version)\n"
   ]
  },
  {
   "cell_type": "code",
   "execution_count": 14,
   "metadata": {},
   "outputs": [
    {
     "output_type": "stream",
     "name": "stdout",
     "text": [
      "Current date and time: \n2021-03-09 20:28:12\nMarch 09, 2021\n"
     ]
    }
   ],
   "source": [
    "#current date and time\n",
    "import datetime\n",
    "now = datetime.datetime.now();\n",
    "print(\"Current date and time: \")\n",
    "print(now.strftime(\"%Y-%m-%d %H:%M:%S\"))\n",
    "print(f\"{now:%B %d, %Y}\")"
   ]
  },
  {
   "cell_type": "code",
   "execution_count": 12,
   "metadata": {},
   "outputs": [
    {
     "output_type": "stream",
     "name": "stdout",
     "text": [
      "Area of circle: 78.53981633974483\n"
     ]
    }
   ],
   "source": [
    "#radius of a circle\n",
    "from math import pi\n",
    "r= float(input(\"Enter radius of circle\"))\n",
    "print(\"Area of circle: \"+ str(pi*r**2))"
   ]
  },
  {
   "cell_type": "code",
   "execution_count": 20,
   "metadata": {},
   "outputs": [
    {
     "output_type": "stream",
     "name": "stdout",
     "text": [
      "['5', '9', '6', '3', '2', '']\n('5', '9', '6', '3', '2', '')\n"
     ]
    }
   ],
   "source": [
    "#generate a list and a tuple from input\n",
    "num = input(\"Enter numbers using comma separate\")\n",
    "list=num.split(\",\")\n",
    "print(list)\n",
    "tuple=tuple(list)\n",
    "print(tuple)"
   ]
  },
  {
   "cell_type": "code",
   "execution_count": null,
   "metadata": {},
   "outputs": [],
   "source": [
    "#print the extension of file\n"
   ]
  }
 ]
}